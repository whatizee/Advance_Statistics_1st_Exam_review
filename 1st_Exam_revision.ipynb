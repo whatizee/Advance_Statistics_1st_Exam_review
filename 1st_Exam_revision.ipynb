{
 "cells": [
  {
   "cell_type": "code",
   "execution_count": 37,
   "id": "14d103ea-524a-4b75-bc92-3648aabe0851",
   "metadata": {},
   "outputs": [],
   "source": [
    "from scipy.stats import norm, binom\n",
    "from scipy.special import comb"
   ]
  },
  {
   "cell_type": "markdown",
   "id": "0371a3d9-0db7-47b2-acb3-77aca99f31d4",
   "metadata": {},
   "source": [
    "If the mean student score on an exam is 92.6 \r\n",
    "and the standard deviation is 3.6. How many \r\n",
    "standard deviations from the mean is the score \r\n",
    "of 98?"
   ]
  },
  {
   "cell_type": "code",
   "execution_count": 2,
   "id": "3836981d-692f-4005-9b12-59193f5529a8",
   "metadata": {},
   "outputs": [
    {
     "data": {
      "text/plain": [
       "1.5000000000000016"
      ]
     },
     "execution_count": 2,
     "metadata": {},
     "output_type": "execute_result"
    }
   ],
   "source": [
    "m = 92.6\n",
    "sd = 3.6\n",
    "z = (98 - 92.6)/3.6\n",
    "z"
   ]
  },
  {
   "cell_type": "markdown",
   "id": "f354c367-3b8d-41ed-8bf9-abc884a46045",
   "metadata": {},
   "source": [
    "If the mean student score on an exam is 92.6 \r\n",
    "and the standard deviation is 3.6. How many \r\n",
    "standard deviations from the mean is the score \r\n",
    "of 89?"
   ]
  },
  {
   "cell_type": "code",
   "execution_count": 4,
   "id": "475bc3d5-b341-4a80-977e-10bd0d79e3b1",
   "metadata": {},
   "outputs": [
    {
     "data": {
      "text/plain": [
       "-1.0"
      ]
     },
     "execution_count": 4,
     "metadata": {},
     "output_type": "execute_result"
    }
   ],
   "source": [
    "m = 92.6\n",
    "sd = 3.6\n",
    "z = (89 - 92.6)/3.6\n",
    "round(z,4)"
   ]
  },
  {
   "cell_type": "markdown",
   "id": "8c1ec39e-9724-43ea-90ad-909036bf5a43",
   "metadata": {},
   "source": [
    "If the mean student score on an exam is 92.6 \r\n",
    "and the standard deviation is 3.6. What \r\n",
    "percentage of students have a grade of less \r\n",
    "than 98?"
   ]
  },
  {
   "cell_type": "code",
   "execution_count": 5,
   "id": "ad090715-c49c-4198-924b-066a0da3e491",
   "metadata": {},
   "outputs": [
    {
     "data": {
      "text/plain": [
       "-1.0"
      ]
     },
     "execution_count": 5,
     "metadata": {},
     "output_type": "execute_result"
    }
   ],
   "source": [
    "m = 92.6\n",
    "sd = 3.6\n",
    "z = (89 - 92.6)/3.6\n",
    "round(z,4)"
   ]
  },
  {
   "cell_type": "code",
   "execution_count": 7,
   "id": "ee2db0e7-1bd1-49ba-a174-980544264d14",
   "metadata": {},
   "outputs": [
    {
     "data": {
      "text/plain": [
       "0.15865525393145707"
      ]
     },
     "execution_count": 7,
     "metadata": {},
     "output_type": "execute_result"
    }
   ],
   "source": [
    "norm.cdf(-1) # look for this values in z table and find the percentage"
   ]
  },
  {
   "cell_type": "code",
   "execution_count": 9,
   "id": "92618129-a554-4fb2-99c6-c7339a7aff9a",
   "metadata": {},
   "outputs": [
    {
     "data": {
      "text/plain": [
       "0.9331927987311421"
      ]
     },
     "execution_count": 9,
     "metadata": {},
     "output_type": "execute_result"
    }
   ],
   "source": [
    "norm.cdf( x = 98, loc = 92.6, scale = 3.6)"
   ]
  },
  {
   "cell_type": "markdown",
   "id": "6ad879cf-af15-4253-9cb7-5c68647c0fa8",
   "metadata": {},
   "source": [
    "If the mean student score on an exam is 92.6 \r\n",
    "and the standard deviation is 3.6. What \r\n",
    "percentage of students have a grade lower \r\n",
    "than 89?\r\n"
   ]
  },
  {
   "cell_type": "code",
   "execution_count": 10,
   "id": "4070ae63-2d6f-49fa-832e-4e587d4f3368",
   "metadata": {},
   "outputs": [
    {
     "data": {
      "text/plain": [
       "0.1586552539314574"
      ]
     },
     "execution_count": 10,
     "metadata": {},
     "output_type": "execute_result"
    }
   ],
   "source": [
    "norm.cdf(89, 92.6, 3.6)"
   ]
  },
  {
   "cell_type": "code",
   "execution_count": 11,
   "id": "a4990f0d-6b69-414f-9c93-c1b3c93d6d66",
   "metadata": {},
   "outputs": [
    {
     "data": {
      "text/plain": [
       "-1.0"
      ]
     },
     "execution_count": 11,
     "metadata": {},
     "output_type": "execute_result"
    }
   ],
   "source": [
    "m = 92.6\n",
    "sd = 3.6\n",
    "z = (89 - 92.6)/3.6\n",
    "round(z,4)"
   ]
  },
  {
   "cell_type": "markdown",
   "id": "eead1403-3eab-4af6-ae01-70f5674d4328",
   "metadata": {},
   "source": [
    "If the mean student score on an exam is 92.6 \n",
    "and the standard deviation is 3.6. What \n",
    "percentage of students have a grade between \n",
    "89 and 98?"
   ]
  },
  {
   "cell_type": "code",
   "execution_count": 12,
   "id": "2e281d63-759f-4140-a73a-46abf2a8d1c7",
   "metadata": {},
   "outputs": [
    {
     "data": {
      "text/plain": [
       "0.7745375447996847"
      ]
     },
     "execution_count": 12,
     "metadata": {},
     "output_type": "execute_result"
    }
   ],
   "source": [
    "norm.cdf(98, 92.6, 3.6) - norm.cdf(89, 92.6, 3.6)"
   ]
  },
  {
   "cell_type": "markdown",
   "id": "b4509763-4d5b-4059-a0f6-640612f3fe6b",
   "metadata": {},
   "source": [
    "SAT scores are distributed nearly normally with mean 1500 and \r\n",
    "standard deviation 300. ACT scores are distributed nearly \r\n",
    "normally with mean 21 and standard deviation 5. A college \r\n",
    "admissions officer wants to determine which of the two \r\n",
    "applicants scored better on their standardized test with respect \r\n",
    "to the other test takers: Pam, who earned an 1800 on her SAT, \r\n",
    "or Jim, who scored a 24 on his ACT"
   ]
  },
  {
   "cell_type": "code",
   "execution_count": 13,
   "id": "3b038818-adbc-4911-bc24-9828e3a76a5b",
   "metadata": {},
   "outputs": [
    {
     "data": {
      "text/plain": [
       "0.8413447460685429"
      ]
     },
     "execution_count": 13,
     "metadata": {},
     "output_type": "execute_result"
    }
   ],
   "source": [
    "#SAT\n",
    "mean_s = 1500\n",
    "sd_s = 300\n",
    "#ACT\n",
    "mean_a = 21\n",
    "sd_a = 5\n",
    "\n",
    "norm.cdf(1800, 1500, 300)"
   ]
  },
  {
   "cell_type": "code",
   "execution_count": 14,
   "id": "81906462-be1a-41c9-8157-c88f7ff955cd",
   "metadata": {},
   "outputs": [
    {
     "data": {
      "text/plain": [
       "0.7257468822499265"
      ]
     },
     "execution_count": 14,
     "metadata": {},
     "output_type": "execute_result"
    }
   ],
   "source": [
    "norm.cdf(24, 21, 5)"
   ]
  },
  {
   "cell_type": "markdown",
   "id": "15ea5304-a76b-4b54-8585-0fa6b6e16f73",
   "metadata": {},
   "source": [
    "SAT scores are distributed nearly normally, with a mean of \r\n",
    "1500 and a standard deviation of 300."
   ]
  },
  {
   "cell_type": "markdown",
   "id": "413e0b1c-00f5-4145-85b7-8b9e0d60480a",
   "metadata": {},
   "source": [
    "● ~68% of students score between 1800 and 1200 on the SAT.\n",
    "● ~95% of students score between 2100 and 900 on the SAT.\n",
    "● ~$99.7% of students score between 2400 and 600 on the \n",
    "SAT"
   ]
  },
  {
   "cell_type": "markdown",
   "id": "5be2b8ba-a7b7-4ada-a1c4-f07e84b4719a",
   "metadata": {},
   "source": [
    "At Heinz ketchup factory the amounts which go into bottles of ketchup \r\n",
    "are supposed to be normally distributed with mean 36 oz. and standard \r\n",
    "deviation 0.11 oz. Once every 30 minutes a bottle is selected from the \r\n",
    "production line, and its contents are noted precisely. If the amount of \r\n",
    "ketchup in the bottle is below 35.8 oz. or above 36.2 oz., then the bottle \r\n",
    "fails the quality control inspection. What percent of bottles have less \r\n",
    "than 35.8 ounces of ketchup"
   ]
  },
  {
   "cell_type": "code",
   "execution_count": 15,
   "id": "3b62c0e5-c2fc-4a3f-a802-46b14ae03f7f",
   "metadata": {},
   "outputs": [],
   "source": [
    "mean = 36\n",
    "sd = .11\n",
    "x = 35.8"
   ]
  },
  {
   "cell_type": "code",
   "execution_count": 16,
   "id": "74b789cb-457e-4e1f-8452-c80211a55117",
   "metadata": {},
   "outputs": [
    {
     "data": {
      "text/plain": [
       "0.034518173997205644"
      ]
     },
     "execution_count": 16,
     "metadata": {},
     "output_type": "execute_result"
    }
   ],
   "source": [
    "norm.cdf(35.8, 36, .11)"
   ]
  },
  {
   "cell_type": "markdown",
   "id": "8e0fa37e-f9c9-47d5-a540-d20e59d9147a",
   "metadata": {},
   "source": [
    "What percent of bottles pass the quality control inspection?"
   ]
  },
  {
   "cell_type": "code",
   "execution_count": 20,
   "id": "3e59b108-4e2f-4d05-979e-93a94e4ddbbb",
   "metadata": {},
   "outputs": [
    {
     "data": {
      "text/plain": [
       "93.0964"
      ]
     },
     "execution_count": 20,
     "metadata": {},
     "output_type": "execute_result"
    }
   ],
   "source": [
    "round((norm.cdf(36.2, 36, .11) - norm.cdf(35.8, 36, .11))*100, 4)"
   ]
  },
  {
   "cell_type": "markdown",
   "id": "90962117-25dd-4a42-aecf-3b99fef83080",
   "metadata": {},
   "source": [
    "Body temperatures of healthy humans are distributed nearly normally, \r\n",
    "with a mean of 98.2 F and a standard deviation of 0.73 F. \r\n",
    "What is the cutoff for the lowest 3% of human body temperatures?"
   ]
  },
  {
   "cell_type": "code",
   "execution_count": 22,
   "id": "0f158bd2-5d80-47ba-bf3a-148ce649cce5",
   "metadata": {},
   "outputs": [
    {
     "name": "stdout",
     "output_type": "stream",
     "text": [
      "-1.880793608151251\n"
     ]
    },
    {
     "data": {
      "text/plain": [
       "96.82702066604959"
      ]
     },
     "execution_count": 22,
     "metadata": {},
     "output_type": "execute_result"
    }
   ],
   "source": [
    "mean = 98.2\n",
    "sd = .73\n",
    "percent = .03\n",
    "z = norm.ppf(.03)\n",
    "print(z)\n",
    "#z = (x-mean)/sd\n",
    "x = z*sd + mean\n",
    "x"
   ]
  },
  {
   "cell_type": "markdown",
   "id": "c3a978d8-66d3-44d9-bf52-300b740b459a",
   "metadata": {},
   "source": [
    "Body temperatures of healthy humans are distributed nearly normally, \r\n",
    "with a mean of 98.2 F and a standard deviation of 0.73 F. \r\n",
    "What is the cutoff for the highest 10% of human body temperatures?"
   ]
  },
  {
   "cell_type": "code",
   "execution_count": 23,
   "id": "bea4d8b5-537a-4d31-8688-41efd620c6e9",
   "metadata": {},
   "outputs": [
    {
     "name": "stdout",
     "output_type": "stream",
     "text": [
      "1.2815515655446004\n"
     ]
    },
    {
     "data": {
      "text/plain": [
       "99.13553264284756"
      ]
     },
     "execution_count": 23,
     "metadata": {},
     "output_type": "execute_result"
    }
   ],
   "source": [
    "mean = 98.2\n",
    "sd = 0.73\n",
    "percent = .90\n",
    "z = norm.ppf(.90)\n",
    "print(z)\n",
    "# z = (x-mean)/sd\n",
    "x = z*sd + mean\n",
    "x"
   ]
  },
  {
   "cell_type": "markdown",
   "id": "e9f88b85-2215-41e6-b563-9ded9c2184cc",
   "metadata": {},
   "source": [
    "If Z ~ N(0, 1), find the percentage of the population that \r\n",
    "would fall \r\n",
    "(a) P (Z > 1.2)\r\n",
    "(b) P (-2.0 < Z < 2.0)\r\n",
    "(c) P (-1.2 < Z < 1.0)"
   ]
  },
  {
   "cell_type": "code",
   "execution_count": 28,
   "id": "f7ca6876-692a-4563-a25e-aa8c2ac942f9",
   "metadata": {},
   "outputs": [
    {
     "name": "stdout",
     "output_type": "stream",
     "text": [
      "11.506967022170823\n"
     ]
    }
   ],
   "source": [
    "#1\n",
    "print((1-norm.cdf(1.2))*100)"
   ]
  },
  {
   "cell_type": "code",
   "execution_count": 27,
   "id": "5bf4b123-fdee-4135-8278-fae7625a462f",
   "metadata": {},
   "outputs": [
    {
     "data": {
      "text/plain": [
       "95.44997361036415"
      ]
     },
     "execution_count": 27,
     "metadata": {},
     "output_type": "execute_result"
    }
   ],
   "source": [
    "#2\n",
    "(norm.cdf(2) - norm.cdf(-2))*100"
   ]
  },
  {
   "cell_type": "code",
   "execution_count": 29,
   "id": "36b6c56e-8442-46a3-811b-0dcd2ec64d43",
   "metadata": {},
   "outputs": [
    {
     "data": {
      "text/plain": [
       "72.62750758468347"
      ]
     },
     "execution_count": 29,
     "metadata": {},
     "output_type": "execute_result"
    }
   ],
   "source": [
    "#3\n",
    "(norm.cdf(1) - norm.cdf(-1.2))*100"
   ]
  },
  {
   "cell_type": "markdown",
   "id": "c02dfb27-0239-4689-8a67-fd9aad279931",
   "metadata": {},
   "source": [
    "The shaded area represents approximately 95% of the\n",
    "scores on a standardized test. If these scores ranged from 78 to 92.\n",
    "a) What is the mean?\n",
    "b) What is the standard deviation?\n"
   ]
  },
  {
   "cell_type": "code",
   "execution_count": 31,
   "id": "1f09d9c8-d099-4fe8-a1ed-d130a10e06b4",
   "metadata": {},
   "outputs": [
    {
     "data": {
      "text/plain": [
       "85.0"
      ]
     },
     "execution_count": 31,
     "metadata": {},
     "output_type": "execute_result"
    }
   ],
   "source": [
    "mean = (78 + 92)/2\n",
    "mean"
   ]
  },
  {
   "cell_type": "code",
   "execution_count": 32,
   "id": "93050f29-a5e1-490a-a6a2-24253d167129",
   "metadata": {},
   "outputs": [
    {
     "data": {
      "text/plain": [
       "3.5"
      ]
     },
     "execution_count": 32,
     "metadata": {},
     "output_type": "execute_result"
    }
   ],
   "source": [
    "#since it is given that 95%\n",
    "sd = (92-85)/2\n",
    "sd"
   ]
  },
  {
   "cell_type": "markdown",
   "id": "ea026ac3-a79b-4bfe-ac82-bd63a4350126",
   "metadata": {},
   "source": [
    "Binomial Distribution Problem\r\n",
    "• Unemployment rate = 7.9%\r\n",
    "• Among a random sample of three people, \r\n",
    "what is the probability th*at o*nly one is \r\n",
    "unemployed?\r\n",
    "• How would you approach this problem?"
   ]
  },
  {
   "cell_type": "code",
   "execution_count": 33,
   "id": "dd67b1f3-eaf3-4a2f-b405-034dc4f747d0",
   "metadata": {},
   "outputs": [],
   "source": [
    "p = .079\n",
    "n = 3\n",
    "x = 1\n"
   ]
  },
  {
   "cell_type": "code",
   "execution_count": 34,
   "id": "24880d76-47d5-4627-b41e-d973a31bfaf6",
   "metadata": {},
   "outputs": [
    {
     "data": {
      "text/plain": [
       "0.2010331170000001"
      ]
     },
     "execution_count": 34,
     "metadata": {},
     "output_type": "execute_result"
    }
   ],
   "source": [
    "binom.pmf(x, n, p)"
   ]
  },
  {
   "cell_type": "markdown",
   "id": "8492fc6c-b95f-4f7a-9ae6-bcc6e0c09642",
   "metadata": {},
   "source": [
    " Unemployment rate = 7.9\r\n",
    "• Among a random sample of eight people, \r\n",
    "what is the probability that only two are \r\n",
    "unemployed?"
   ]
  },
  {
   "cell_type": "code",
   "execution_count": 35,
   "id": "38519248-92a4-40e6-ba10-9eda6516bfda",
   "metadata": {},
   "outputs": [],
   "source": [
    "p = .079\n",
    "n = 8\n",
    "x = 2\n"
   ]
  },
  {
   "cell_type": "code",
   "execution_count": 36,
   "id": "850a1755-a06b-414c-83a1-d370e7cf394b",
   "metadata": {},
   "outputs": [
    {
     "data": {
      "text/plain": [
       "0.10665224339021576"
      ]
     },
     "execution_count": 36,
     "metadata": {},
     "output_type": "execute_result"
    }
   ],
   "source": [
    "binom.pmf(x, n, p)"
   ]
  },
  {
   "cell_type": "markdown",
   "id": "631e7d07-cd92-43e7-bf55-608562603f8e",
   "metadata": {},
   "source": [
    "A 2012 Gallup survey suggests that 26.2% of Americans are \r\n",
    "obese. Among a random sample of 10 Americans, what is the \r\n",
    "probability that exactly 8 are obese?"
   ]
  },
  {
   "cell_type": "code",
   "execution_count": 38,
   "id": "d934576a-a1a7-47a0-a96b-0cb14c127497",
   "metadata": {},
   "outputs": [],
   "source": [
    "p = .262\n",
    "n = 10\n",
    "x = 8\n"
   ]
  },
  {
   "cell_type": "code",
   "execution_count": 39,
   "id": "8649286f-9bba-4e61-bc0c-3111eb498812",
   "metadata": {},
   "outputs": [
    {
     "data": {
      "text/plain": [
       "0.0005441712184877578"
      ]
     },
     "execution_count": 39,
     "metadata": {},
     "output_type": "execute_result"
    }
   ],
   "source": [
    "binom.pmf(x, n, p)"
   ]
  },
  {
   "cell_type": "markdown",
   "id": "799490d2-2a81-42d5-9ef0-2d970e9f7b5d",
   "metadata": {},
   "source": [
    "Negative bionomial"
   ]
  },
  {
   "cell_type": "markdown",
   "id": "6be804ac-20da-4de9-9304-5f04444a18bc",
   "metadata": {},
   "source": [
    "n = number of trial\n",
    "k = is the kth success\n",
    "p = probability of success\n",
    "\n",
    "probability of kth success in nth trial = \n",
    "\n",
    "(comb(n-1,k-1))*(p)**x*(1-p)**(n-x)"
   ]
  },
  {
   "cell_type": "markdown",
   "id": "c9c9fa33-088e-4eca-96e8-718f5a6f14fb",
   "metadata": {},
   "source": [
    "A college student working at a psychology lab is asked to recruit 10 \r\n",
    "couples to participate in a study. She decides to stand outside the \r\n",
    "student center and ask every 5th person leaving the building whether \r\n",
    "they are in a relationship and, if so, whether they would like to \r\n",
    "participate in the study with their significant other. Suppose the \r\n",
    "probability of finding such a person is 10%. What is the probability that \r\n",
    "she will need to ask 30 people before she hits her goal?"
   ]
  },
  {
   "cell_type": "code",
   "execution_count": 43,
   "id": "17b4e459-c786-4c1a-86d8-a9545fa36c1f",
   "metadata": {},
   "outputs": [],
   "source": [
    "k = 10\n",
    "p = 0.1\n",
    "n = 30"
   ]
  },
  {
   "cell_type": "code",
   "execution_count": 44,
   "id": "042b8e9b-fa0e-4d75-96f6-a509d00e5895",
   "metadata": {},
   "outputs": [
    {
     "data": {
      "text/plain": [
       "10015005.0"
      ]
     },
     "execution_count": 44,
     "metadata": {},
     "output_type": "execute_result"
    }
   ],
   "source": [
    "comb(n-1, k-1)"
   ]
  },
  {
   "cell_type": "code",
   "execution_count": 45,
   "id": "22c5807b-73a5-4c10-8f47-a14d0d45596b",
   "metadata": {},
   "outputs": [
    {
     "data": {
      "text/plain": [
       "1.0000000000000006e-10"
      ]
     },
     "execution_count": 45,
     "metadata": {},
     "output_type": "execute_result"
    }
   ],
   "source": [
    "p**k"
   ]
  },
  {
   "cell_type": "code",
   "execution_count": 46,
   "id": "e575f047-3990-4849-8fc1-89a96ff13e24",
   "metadata": {},
   "outputs": [
    {
     "data": {
      "text/plain": [
       "0.12157665459056935"
      ]
     },
     "execution_count": 46,
     "metadata": {},
     "output_type": "execute_result"
    }
   ],
   "source": [
    "(1-p)**(n-k)"
   ]
  },
  {
   "cell_type": "code",
   "execution_count": 47,
   "id": "006d54b9-b46a-4f12-bf82-a2f23725a03b",
   "metadata": {
    "scrolled": true
   },
   "outputs": [
    {
     "data": {
      "text/plain": [
       "0.00012175908036078257"
      ]
     },
     "execution_count": 47,
     "metadata": {},
     "output_type": "execute_result"
    }
   ],
   "source": [
    "(comb(n-1, k-1))*(p**k)*((1-p)**(n-k))"
   ]
  },
  {
   "cell_type": "markdown",
   "id": "d3cb1428-259f-4158-ae5f-c3acf1d51e83",
   "metadata": {},
   "source": [
    "## Important Formulas"
   ]
  },
  {
   "cell_type": "markdown",
   "id": "38599481-9ff5-4627-8355-22e2bfe5224e",
   "metadata": {},
   "source": [
    "$P(A) = \\text{Probability of event } A ; 0 \\leq P(A) \\leq 1$\n",
    "\n",
    "$P(A) = 1 - P(A^c); \\quad A^c \\text{ is the complement of } A$\n",
    "\n",
    "$P(A \\text{ or } B) = P(A) + P(B) - P(A \\text{ and } B)$\n",
    "\n",
    "$P(A \\text{ and } B) = P(A) \\times P(B)$\n",
    "\n",
    "$P(A|B) = \\frac{P(A \\cap B)}{P(B)}$\n",
    "\n",
    "$P(A \\text{ and } B) = P(A | B) \\times P(B)$\n"
   ]
  },
  {
   "cell_type": "markdown",
   "id": "74065cee-93ef-4205-b618-2a4ea6e105dc",
   "metadata": {},
   "source": [
    "P(atleast) = 1 - P(none)"
   ]
  },
  {
   "cell_type": "markdown",
   "id": "d5228926-4c3f-4f9f-a7dd-0cb3cf7bfe49",
   "metadata": {},
   "source": [
    "$P(\\text{k success in n trials}) = \\binom{n}{k} p^k (1 - p)^{n-k}$\r\n",
    "\r\n",
    "$p(\\text{kth success in nth trial}) = \\binom{n-1}{k-1} p^k (1 - p)^{n-k}$\r\n"
   ]
  },
  {
   "cell_type": "markdown",
   "id": "4e0ff6fb-61d4-44b2-a7f0-447c03411fdb",
   "metadata": {},
   "source": [
    "## Important formula in python in normal distribution"
   ]
  },
  {
   "cell_type": "markdown",
   "id": "fc424a6f-0ba6-434b-b2d7-fa64fab1bb13",
   "metadata": {},
   "source": [
    "## Calculation Steps:\n",
    "\n",
    "### To find the percentage:\n",
    "Use the cumulative distribution function (`norm.cdf`) with parameters `x`, `loc`, and `scale`. ie norm.cdf(x, loc, scale)\n",
    "\n",
    "### To find the cut-off:\n",
    "Calculate `z` using the percent point function (`norm.ppf`) with the percentage value divided by 100. ie norm.ppf(percentage/100)\n",
    "\n",
    "### Put this `z` value in the equation to find `x`:\n",
    "Use the equation: \n",
    "z = (x - mean)/sd\n",
    "\n",
    "\n",
    "Where:\n",
    "- z  is the standard score.\n",
    "-  x is the cutoff point.\n",
    "- `mean` is the mean value.\n",
    "- `sd` is the standard deviation.$\n",
    "\n"
   ]
  },
  {
   "cell_type": "markdown",
   "id": "6a3f6993-01b9-45ca-80f5-4f5560acc6d8",
   "metadata": {},
   "source": [
    "## Important formula in python in binomial distribution"
   ]
  },
  {
   "cell_type": "markdown",
   "id": "ae9df65f-84ba-442d-bdc4-e533e53a1b83",
   "metadata": {},
   "source": [
    "## Usage Guidelines:\r\n",
    "\r\n",
    "### If the question contains exactly, only:\r\n",
    "\r\n",
    "Use the probability mass function (`binom.pmf`) with parameters \\( x \\), \\( n \\), and \\( p \\):\r\n",
    "\r\n",
    "```python\r\n",
    "binom.pmf(x, n, p)\r\n"
   ]
  },
  {
   "cell_type": "markdown",
   "id": "88eb31e2-3c38-4766-842d-fc52fa958726",
   "metadata": {},
   "source": [
    "## Usage Guidelines:\n",
    "\n",
    "### If the question contains upto, atmost:\n",
    "\n",
    "Use the probability mass function (`binom.cdf`) with parameters \\( x \\), \\( n \\), and \\( p \\):\n",
    "\n",
    "```python\n",
    "binom.cdf(x, n, p)"
   ]
  },
  {
   "cell_type": "code",
   "execution_count": null,
   "id": "b279e19d-7559-4910-ab51-3b6bef094ea1",
   "metadata": {},
   "outputs": [],
   "source": []
  }
 ],
 "metadata": {
  "kernelspec": {
   "display_name": "Python 3 (ipykernel)",
   "language": "python",
   "name": "python3"
  },
  "language_info": {
   "codemirror_mode": {
    "name": "ipython",
    "version": 3
   },
   "file_extension": ".py",
   "mimetype": "text/x-python",
   "name": "python",
   "nbconvert_exporter": "python",
   "pygments_lexer": "ipython3",
   "version": "3.8.4"
  }
 },
 "nbformat": 4,
 "nbformat_minor": 5
}
